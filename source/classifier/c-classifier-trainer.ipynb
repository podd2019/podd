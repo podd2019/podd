{
 "cells": [
  {
   "cell_type": "code",
   "execution_count": 2,
   "metadata": {},
   "outputs": [],
   "source": [
    "import sys\n",
    "import numpy as np\n",
    "#from matplotlib.mlab import PCA\n",
    "from sklearn.decomposition import PCA\n",
    "from sklearn.preprocessing import Normalizer\n",
    "from sklearn import svm\n",
    "from sklearn.metrics import roc_curve, auc\n",
    "import matplotlib.pyplot as plt\n",
    "import pickle\n",
    "\n",
    "data = my_data = np.genfromtxt('train_pcm.results', delimiter=',')\n",
    "#remove header and non-feature column\n",
    "X = data[1:,4:]\n",
    "Y = data[1:,3]\n",
    "transformer = Normalizer().fit(X)\n",
    "\n",
    "filename1 = 'standardizer.sav'\n",
    "pickle.dump(transformer, open(filename1, 'wb'))\n",
    "\n",
    "X = transformer.transform(X)\n",
    "\n",
    "#X = normalize(X, axis=0, norm='l2')\n",
    "\n",
    "train_X = X\n",
    "train_Y = Y\n",
    "pca = PCA(n_components=5)\n",
    "\n",
    "pca.fit(train_X)\n",
    "transformed_train_X = pca.transform(train_X)\n",
    "\n",
    "\n",
    "filename = 'pca.sav'\n",
    "pickle.dump(pca, open(filename, 'wb'))\n",
    "\n",
    "\n",
    "loaded_model = pickle.load(open(filename, 'rb'))\n",
    "loaded_model1= pickle.load(open(filename1, 'rb'))\n",
    "test_X = loaded_model1.transform(test_X.reshape(1, -1))\n",
    "result = loaded_model.transform(test_X.reshape(1, -1))\n"
   ]
  },
  {
   "cell_type": "code",
   "execution_count": 10,
   "metadata": {},
   "outputs": [],
   "source": [
    "learner = svm.SVC(kernel='rbf', gamma=1, C=1000, class_weight={0:2, 1:1})\n",
    "\n",
    "learner.fit(transformed_train_X,train_Y)\n",
    "\n",
    "filename1 = 'c-classifier.sav'\n",
    "pickle.dump(transformer, open(filename1, 'wb'))"
   ]
  },
  {
   "cell_type": "code",
   "execution_count": null,
   "metadata": {},
   "outputs": [],
   "source": []
  }
 ],
 "metadata": {
  "kernelspec": {
   "display_name": "Python 3",
   "language": "python",
   "name": "python3"
  },
  "language_info": {
   "codemirror_mode": {
    "name": "ipython",
    "version": 3
   },
   "file_extension": ".py",
   "mimetype": "text/x-python",
   "name": "python",
   "nbconvert_exporter": "python",
   "pygments_lexer": "ipython3",
   "version": "3.7.1"
  }
 },
 "nbformat": 4,
 "nbformat_minor": 2
}
